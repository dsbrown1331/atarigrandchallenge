{
 "cells": [
  {
   "cell_type": "code",
   "execution_count": 4,
   "metadata": {},
   "outputs": [],
   "source": [
    "DATA_DIR = '../atari_v1'"
   ]
  },
  {
   "cell_type": "code",
   "execution_count": 5,
   "metadata": {
    "scrolled": true
   },
   "outputs": [
    {
     "name": "stdout",
     "output_type": "stream",
     "text": [
      "The autoreload extension is already loaded. To reload it, use:\n",
      "  %reload_ext autoreload\n"
     ]
    }
   ],
   "source": [
    "import agc.dataset as dataset\n",
    "import agc.util as util\n",
    "\n",
    "import numpy as np\n",
    "\n",
    "from os import path, listdir\n",
    "\n",
    "import cv2\n",
    "\n",
    "from IPython.display import display, HTML\n",
    "from prettytable import PrettyTable\n",
    "\n",
    "import matplotlib.pyplot as plt\n",
    "import seaborn as sns\n",
    "%matplotlib inline\n",
    "\n",
    "%load_ext autoreload\n",
    "%autoreload 2"
   ]
  },
  {
   "cell_type": "code",
   "execution_count": 7,
   "metadata": {},
   "outputs": [],
   "source": [
    "dataset = dataset.AtariDataset(DATA_DIR)"
   ]
  },
  {
   "cell_type": "code",
   "execution_count": 10,
   "metadata": {},
   "outputs": [
    {
     "name": "stdout",
     "output_type": "stream",
     "text": [
      "spaceinvaders\n",
      "qbert\n",
      "mspacman\n",
      "pinball\n",
      "revenge\n"
     ]
    }
   ],
   "source": [
    "#print out games\n",
    "for g in util.GAMES:\n",
    "    print(g)"
   ]
  },
  {
   "cell_type": "code",
   "execution_count": 22,
   "metadata": {},
   "outputs": [
    {
     "name": "stdout",
     "output_type": "stream",
     "text": [
      "total episodes 423\n",
      "frames 1766078\n",
      "hours of gameplay 8.166666666666666\n",
      "worst score 5\n",
      "best score 1960\n",
      "average score 590.8747044917258\n"
     ]
    }
   ],
   "source": [
    "#get statistics for spaceinvaders\n",
    "\n",
    "g = 'spaceinvaders'\n",
    "print('total episodes', dataset.stats[g]['total_replays'])\n",
    "print('frames',dataset.stats[g]['total_frames'])\n",
    "print('hours of gameplay',float(dataset.stats[g]['total_frames']//60//60/60))\n",
    "print('worst score', dataset.stats[g]['min_score'])\n",
    "print('best score', dataset.stats[g]['max_score'])\n",
    "print('average score', dataset.stats[g]['avg_score'])\n",
    "\n"
   ]
  },
  {
   "cell_type": "code",
   "execution_count": 42,
   "metadata": {},
   "outputs": [
    {
     "data": {
      "image/png": "[encoded data removed]",
      "text/plain": [
       "<Figure size 432x288 with 1 Axes>"
      ]
     },
     "metadata": {},
     "output_type": "display_data"
    }
   ],
   "source": [
    "#plot a random frame\n",
    "f = plt.gcf()\n",
    "screens_dir = path.join(DATA_DIR, 'screens', g)\n",
    "sample_traj = path.join(screens_dir, np.random.choice(listdir(screens_dir)))\n",
    "sample_pic = np.random.choice(listdir(sample_traj))\n",
    "pic = cv2.imread(path.join(sample_traj, sample_pic))\n",
    "plt.imshow(cv2.cvtColor(pic, cv2.COLOR_BGR2RGB))\n",
    "plt.axis('off');"
   ]
  },
  {
   "cell_type": "code",
   "execution_count": 49,
   "metadata": {},
   "outputs": [
    {
     "data": {
      "text/plain": [
       "(array([ 57.,  68., 119.,  93.,  30.,  19.,  16.,   9.,   9.,   3.]),\n",
       " array([   5. ,  200.5,  396. ,  591.5,  787. ,  982.5, 1178. , 1373.5,\n",
       "        1569. , 1764.5, 1960. ]),\n",
       " <a list of 10 Patch objects>)"
      ]
     },
     "execution_count": 49,
     "metadata": {},
     "output_type": "execute_result"
    },
    {
     "data": {
      "image/png": "[encoded data removed]",
      "text/plain": [
       "<Figure size 432x288 with 1 Axes>"
      ]
     },
     "metadata": {},
     "output_type": "display_data"
    }
   ],
   "source": [
    "#plot histogram of scores for space invaders\n",
    "scores = []\n",
    "for t in dataset.trajectories[g]:\n",
    "    scores.append(dataset.trajectories[g][t][-1]['score'])\n",
    "plt.hist(scores)\n"
   ]
  },
  {
   "cell_type": "code",
   "execution_count": 54,
   "metadata": {},
   "outputs": [
    {
     "data": {
      "text/plain": [
       "(array([1.125827e+06, 3.289870e+05, 2.486890e+05, 4.270000e+02,\n",
       "        4.600000e+01, 7.500000e+01, 3.556800e+04, 2.639300e+04,\n",
       "        8.000000e+00, 5.800000e+01]),\n",
       " array([ 0. ,  1.6,  3.2,  4.8,  6.4,  8. ,  9.6, 11.2, 12.8, 14.4, 16. ]),\n",
       " <a list of 10 Patch objects>)"
      ]
     },
     "execution_count": 54,
     "metadata": {},
     "output_type": "execute_result"
    },
    {
     "data": {
      "image/png": "[encoded data removed]",
      "text/plain": [
       "<Figure size 432x288 with 1 Axes>"
      ]
     },
     "metadata": {},
     "output_type": "display_data"
    }
   ],
   "source": [
    "#look at actions, I don't think we'll need them, but just want to see how many buttons are actually pushed and how often it is a no-op\n",
    "actions = []\n",
    "\n",
    "for t in dataset.trajectories[g]:\n",
    "    actions.extend([ct['action'] for ct in dataset.trajectories[g][t]])\n",
    "plt.hist(actions)"
   ]
  },
  {
   "cell_type": "code",
   "execution_count": 94,
   "metadata": {},
   "outputs": [
    {
     "name": "stdout",
     "output_type": "stream",
     "text": [
      "[10, 15, 40, 40, 95, 95, 100, 125, 135, 195, 200, 200, 210, 215, 220, 230, 235, 235, 255, 255, 260, 260, 260, 260, 270, 270, 275, 285, 285, 290, 290, 290, 300, 315, 315, 320, 320, 325, 330, 330, 335, 340, 340, 345, 350, 350, 350, 355, 355, 360, 360, 360, 360, 365, 365, 365, 370, 370, 370, 385, 385, 390, 390, 390, 395, 405, 410, 420, 440, 445, 445, 445, 450, 450, 455, 460, 460, 460, 460, 470, 480, 485, 485, 485, 485, 485, 490, 490, 490, 490, 495, 505, 510, 510, 510, 510, 510, 515, 515, 515, 515, 515, 515, 515, 520, 520, 520, 520, 525, 530, 540, 540, 540, 540, 540, 540, 540, 540, 540, 540, 540, 545, 545, 545, 545, 545, 545, 545, 545, 545, 545, 545, 545, 550, 550, 555, 570, 570, 570, 570, 570, 570, 570, 570, 570, 570, 570, 570, 570, 570, 570, 570, 570, 570, 570, 570, 570, 570, 570, 570, 570, 570, 570, 570, 570, 570, 575, 575, 575, 575, 575, 575, 575, 600, 600, 600, 600, 600, 600, 600, 600, 600, 600, 600, 600, 600, 600, 600, 600, 600, 600, 600, 600, 600, 600, 600, 600, 600, 600, 600, 600, 600, 600, 600, 600, 605, 605, 605, 605, 610, 615, 630, 635, 640, 655, 655, 665, 675, 675, 675, 680, 685, 685, 690, 695, 695, 700, 700, 710, 710, 710, 715, 715, 720, 740, 740, 740, 740, 740, 740, 740, 740, 745, 745, 745, 745, 770, 770, 770, 770, 770, 770, 770, 775, 775, 775, 775, 800, 800, 800, 800, 800, 800, 800, 800, 800, 805, 805, 805, 810, 840, 905, 915, 930, 940, 970, 995, 1000, 1005, 1005, 1175, 1200]\n",
      "282\n"
     ]
    }
   ],
   "source": [
    "#need to pick out a subset of demonstrations based on desired performance\n",
    "#first let's sort the demos by performance, we can use the trajectory number to index into the demos so just\n",
    "#need to sort indices based on 'score'\n",
    "\n",
    "#Note, I'm also going to try only keeping the full demonstrations that end in terminal\n",
    "traj_indices = []\n",
    "traj_scores = []\n",
    "for t in dataset.trajectories[g]:\n",
    "    if dataset.trajectories[g][t][-1]['terminal']:\n",
    "        traj_indices.append(t)\n",
    "        traj_scores.append(dataset.trajectories[g][t][-1]['score'])\n",
    "sorted_traj_indices = [x for _, x in sorted(zip(traj_scores, traj_indices), key=lambda pair: pair[0])]\n",
    "sorted_traj_scores = sorted(traj_scores)\n",
    "\n",
    "print(sorted_traj_scores)\n",
    "print(len(sorted_traj_scores))"
   ]
  },
  {
   "cell_type": "code",
   "execution_count": 102,
   "metadata": {},
   "outputs": [
    {
     "name": "stdout",
     "output_type": "stream",
     "text": [
      "num non duplicates 97\n",
      "[(65, 10), (377, 95), (325, 135), (366, 210), (2, 230), (379, 260), (368, 285), (66, 315), (149, 330), (217, 345), (361, 360), (161, 385)]\n"
     ]
    }
   ],
   "source": [
    "#so how do we want to get demos? how many do we have if we remove duplicates?\n",
    "seen_scores = set()\n",
    "non_duplicates = []\n",
    "for i,s in zip(sorted_traj_indices, sorted_traj_scores):\n",
    "    if s not in seen_scores:\n",
    "        seen_scores.add(s)\n",
    "        non_duplicates.append((i,s))\n",
    "print(\"num non duplicates\", len(seen_scores))\n",
    "start = 0\n",
    "skip = 3\n",
    "num_demos = 12\n",
    "demos = non_duplicates[start:num_demos*skip + start:skip]\n",
    "print(demos)"
   ]
  },
  {
   "cell_type": "code",
   "execution_count": 103,
   "metadata": {},
   "outputs": [
    {
     "name": "stdout",
     "output_type": "stream",
     "text": [
      "1580\n",
      "1899\n",
      "2030\n",
      "2309\n",
      "2669\n",
      "3117\n",
      "3546\n",
      "3325\n",
      "2826\n",
      "3570\n",
      "5575\n",
      "4037\n"
     ]
    }
   ],
   "source": [
    "#How long are these demos?\n",
    "for i,s in demos:\n",
    "    print(len(dataset.trajectories[g][i]))"
   ]
  },
  {
   "cell_type": "code",
   "execution_count": 121,
   "metadata": {},
   "outputs": [],
   "source": [
    "import numpy as np\n",
    "import os\n",
    "from collections import deque\n",
    "import gym\n",
    "from gym import spaces\n",
    "import cv2\n",
    "cv2.ocl.setUseOpenCL(False)\n",
    "from baselines.common.atari_wrappers import make_atari, wrap_deepmind"
   ]
  },
  {
   "cell_type": "code",
   "execution_count": 232,
   "metadata": {},
   "outputs": [],
   "source": [
    "#need to grayscale and warp to 84x84\n",
    "def GrayScaleWarpImage(image):\n",
    "    \"\"\"Warp frames to 84x84 as done in the Nature paper and later work.\"\"\"\n",
    "    width=84\n",
    "    height=84 \n",
    "    frame = cv2.cvtColor(image, cv2.COLOR_BGR2RGB)\n",
    "    frame = cv2.cvtColor(frame, cv2.COLOR_RGB2GRAY)\n",
    "    frame = cv2.resize(frame, (width, height), interpolation=cv2.INTER_AREA)\n",
    "    #frame = np.expand_dims(frame, -1)\n",
    "    return frame"
   ]
  },
  {
   "cell_type": "code",
   "execution_count": 162,
   "metadata": {},
   "outputs": [
    {
     "name": "stdout",
     "output_type": "stream",
     "text": [
      "(210, 160, 3)\n"
     ]
    },
    {
     "data": {
      "image/png": "[encoded data removed]",
      "text/plain": [
       "<Figure size 432x288 with 1 Axes>"
      ]
     },
     "metadata": {},
     "output_type": "display_data"
    }
   ],
   "source": [
    "#plot a random frame\n",
    "f = plt.gcf()\n",
    "screens_dir = path.join(DATA_DIR, 'screens', g)\n",
    "sample_traj = path.join(screens_dir, np.random.choice(listdir(screens_dir)))\n",
    "sample_pic = np.random.choice(listdir(sample_traj))\n",
    "image_path = path.join(sample_traj, sample_pic)\n",
    "pic = cv2.imread(image_path)\n",
    "plt.imshow(cv2.cvtColor(pic, cv2.COLOR_BGR2RGB))\n",
    "plt.axis('off');\n",
    "print(pic.shape)\n"
   ]
  },
  {
   "cell_type": "code",
   "execution_count": 172,
   "metadata": {},
   "outputs": [
    {
     "name": "stdout",
     "output_type": "stream",
     "text": [
      "(84, 84)\n",
      "(84, 84)\n"
     ]
    },
    {
     "data": {
      "image/png": "[encoded data removed]",
      "text/plain": [
       "<Figure size 432x288 with 1 Axes>"
      ]
     },
     "metadata": {},
     "output_type": "display_data"
    }
   ],
   "source": [
    "#plot the frame warped\n",
    "f = plt.gcf()\n",
    "pic = GrayScaleWarpImage(image_path)\n",
    "print(pic.shape)\n",
    "plt.imshow(pic)\n",
    "plt.axis('off');\n",
    "print(pic.shape)\n"
   ]
  },
  {
   "cell_type": "code",
   "execution_count": 236,
   "metadata": {},
   "outputs": [],
   "source": [
    "def MaxSkipAndWarpFrames(trajectory_dir):\n",
    "    \"\"\"take a trajectory file of frames and max over every 3rd and 4th observation\"\"\"\n",
    "    num_frames = len(listdir(trajectory_dir))\n",
    "    skip=4\n",
    "    \n",
    "    sample_pic = np.random.choice(listdir(trajectory_dir))\n",
    "    image_path = path.join(trajectory_dir, sample_pic)\n",
    "    pic = cv2.imread(image_path)\n",
    "    obs_buffer = np.zeros((2,)+pic.shape, dtype=np.uint8)\n",
    "    max_frames = []\n",
    "    for i in range(num_frames): \n",
    "        #TODO: check that i should max before warping.\n",
    "        if i % skip == skip - 2: \n",
    "            obs = cv2.imread(path.join(trajectory_dir, str(i) + \".png\"))\n",
    "            obs_buffer[0] = obs\n",
    "        if i % skip == skip - 1: \n",
    "            obs = cv2.imread(path.join(trajectory_dir, str(i) + \".png\"))\n",
    "            obs_buffer[1] = obs\n",
    "            #warp max to 80x80 grayscale\n",
    "            image = obs_buffer.max(axis=0)\n",
    "            warped = GrayScaleWarpImage(image)\n",
    "            max_frames.append(warped)\n",
    "    return max_frames\n",
    "\n"
   ]
  },
  {
   "cell_type": "code",
   "execution_count": 305,
   "metadata": {},
   "outputs": [],
   "source": [
    "def StackFrames(frames):\n",
    "    import copy\n",
    "    \"\"\"stack every four frames to make an observation (84,84,4)\"\"\"\n",
    "    stacked = []\n",
    "    stacked_obs = np.zeros((84,84,4))\n",
    "    for i in range(len(frames)):\n",
    "        if i >= 3:\n",
    "            stacked_obs[:,:,0] = frames[i-3]\n",
    "            stacked_obs[:,:,1] = frames[i-2]\n",
    "            stacked_obs[:,:,2] = frames[i-1]\n",
    "            stacked_obs[:,:,3] = frames[i]\n",
    "            stacked.append(np.expand_dims(copy.deepcopy(stacked_obs),0))\n",
    "    return stacked\n",
    "        \n",
    "    "
   ]
  },
  {
   "cell_type": "code",
   "execution_count": 306,
   "metadata": {},
   "outputs": [
    {
     "name": "stdout",
     "output_type": "stream",
     "text": [
      "../atari_v1/screens/spaceinvaders/65\n"
     ]
    }
   ],
   "source": [
    "traj_dir = path.join(DATA_DIR, 'screens', g, str(65))\n",
    "print(traj_dir)\n",
    "maxed_traj = MaxSkipAndWarpFrames(traj_dir)\n",
    "stacked_traj = StackFrames(maxed_traj)"
   ]
  },
  {
   "cell_type": "code",
   "execution_count": 308,
   "metadata": {},
   "outputs": [
    {
     "name": "stdout",
     "output_type": "stream",
     "text": [
      "395\n",
      "(84, 84)\n",
      "392\n",
      "(1, 84, 84, 4)\n",
      "False\n"
     ]
    },
    {
     "data": {
      "text/plain": [
       "<matplotlib.image.AxesImage at 0x7faa3778f2e8>"
      ]
     },
     "execution_count": 308,
     "metadata": {},
     "output_type": "execute_result"
    },
    {
     "data": {
      "image/png": "[encoded data removed]",
      "text/plain": [
       "<Figure size 432x288 with 1 Axes>"
      ]
     },
     "metadata": {},
     "output_type": "display_data"
    }
   ],
   "source": [
    "print(len(maxed_traj))\n",
    "print(maxed_traj[0].shape)\n",
    "\n",
    "print(len(stacked_traj))\n",
    "print(stacked_traj[0].shape)\n",
    "print((stacked_traj[0] == stacked_traj[10]).all())\n",
    "plt.imshow(stacked_traj[0][0,:,:,0])"
   ]
  },
  {
   "cell_type": "code",
   "execution_count": 309,
   "metadata": {},
   "outputs": [
    {
     "name": "stdout",
     "output_type": "stream",
     "text": [
      "395\n",
      "(84, 84)\n",
      "392\n",
      "(1, 84, 84, 4)\n"
     ]
    },
    {
     "data": {
      "text/plain": [
       "<matplotlib.image.AxesImage at 0x7faa3965e978>"
      ]
     },
     "execution_count": 309,
     "metadata": {},
     "output_type": "execute_result"
    },
    {
     "data": {
      "image/png": "[encoded data removed]",
      "text/plain": [
       "<Figure size 432x288 with 1 Axes>"
      ]
     },
     "metadata": {},
     "output_type": "display_data"
    }
   ],
   "source": [
    "print(len(maxed_traj))\n",
    "print(maxed_traj[0].shape)\n",
    "\n",
    "print(len(stacked_traj))\n",
    "print(stacked_traj[0].shape)\n",
    "plt.imshow(stacked_traj[-1][0,:,:,0])"
   ]
  },
  {
   "cell_type": "code",
   "execution_count": 268,
   "metadata": {},
   "outputs": [],
   "source": [
    "#TODO: I need to check how the initial observations work. It seems like the first 25 are just going to be the 3 flashing \n",
    "\n",
    "#It would be good to compare my outputs with the outputs from the Atari setup Wonjoon gave me!\n",
    "\n",
    "#TODO: clean up code and add masking!\n",
    "#TODO: add normalization"
   ]
  },
  {
   "cell_type": "code",
   "execution_count": null,
   "metadata": {},
   "outputs": [],
   "source": []
  }
 ],
 "metadata": {
  "kernelspec": {
   "display_name": "Python 3",
   "language": "python",
   "name": "python3"
  },
  "language_info": {
   "codemirror_mode": {
    "name": "ipython",
    "version": 3
   },
   "file_extension": ".py",
   "mimetype": "text/x-python",
   "name": "python",
   "nbconvert_exporter": "python",
   "pygments_lexer": "ipython3",
   "version": "3.6.5"
  }
 },
 "nbformat": 4,
 "nbformat_minor": 1
}
